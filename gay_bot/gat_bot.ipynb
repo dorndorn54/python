{
 "cells": [
  {
   "cell_type": "code",
   "execution_count": null,
   "id": "3cff8c05",
   "metadata": {},
   "outputs": [],
   "source": [
    "!pip install telepot\n",
    "!pip install pprintpp\n",
    "!pip install pyTelegramBotAPI"
   ]
  },
  {
   "cell_type": "code",
   "execution_count": null,
   "id": "54ff6d9d",
   "metadata": {},
   "outputs": [],
   "source": [
    "import telepot\n",
    "bot = telepot.Bot('8267299141:AAFNU95X-z4p8gDbV-zuA7AEdHf0SSYA-gk')\n",
    "bot.getMe()"
   ]
  },
  {
   "cell_type": "code",
   "execution_count": 1,
   "id": "4a6d24ac",
   "metadata": {},
   "outputs": [
    {
     "name": "stdout",
     "output_type": "stream",
     "text": [
      "Checking gay value for: jxrzy\n",
      "Checking gay value for: ChiaWeiZun\n",
      "Checking gay value for: hiimsherman\n",
      "Checking gay value for: dorn1278\n",
      "Checking gay value for: dorn1278\n",
      "Checking gay value for: wxi_yxn\n",
      "Checking gay value for: ChiaWeiZun\n",
      "Checking gay value for: jaymaica\n"
     ]
    },
    {
     "ename": "",
     "evalue": "",
     "output_type": "error",
     "traceback": [
      "\u001b[1;31mThe Kernel crashed while executing code in the current cell or a previous cell. \n",
      "\u001b[1;31mPlease review the code in the cell(s) to identify a possible cause of the failure. \n",
      "\u001b[1;31mClick <a href='https://aka.ms/vscodeJupyterKernelCrash'>here</a> for more info. \n",
      "\u001b[1;31mView Jupyter <a href='command:jupyter.viewOutput'>log</a> for further details."
     ]
    }
   ],
   "source": [
    "import telebot\n",
    "from telebot.types import InlineQueryResultArticle, InputTextMessageContent, InlineKeyboardMarkup, InlineKeyboardButton\n",
    "import random\n",
    "\n",
    "# Replace this with your actual bot token\n",
    "BOT_TOKEN = '8267299141:AAFNU95X-z4p8gDbV-zuA7AEdHf0SSYA-gk'\n",
    "\n",
    "bot = telebot.TeleBot(BOT_TOKEN)\n",
    "\n",
    "value_range = {\n",
    "    'wxi_yxn' : [90, 100],\n",
    "    'uniq_chlo' : [80, 90],\n",
    "    'pandbbear' : [70, 80],\n",
    "}\n",
    "\n",
    "# Handle inline queries (when someone types @gaybot in any chat)\n",
    "@bot.inline_handler(lambda query: True)\n",
    "def handle_inline_query(inline_query):\n",
    "    try:\n",
    "        # Get the user's query text\n",
    "        user = inline_query.from_user\n",
    "        username = obtain_username(user)\n",
    "        query_text = inline_query.query or \"Hello\"\n",
    "        \n",
    "        share_keyboard = InlineKeyboardMarkup()\n",
    "        share_keyboard.add(\n",
    "            InlineKeyboardButton(\"Share your gayness! 🏳️‍🌈\", switch_inline_query=\"\")\n",
    "        )\n",
    "\n",
    "\n",
    "        results = [\n",
    "            InlineQueryResultArticle(\n",
    "                id='1',\n",
    "                title='How gay are you?',\n",
    "                description='click to find out how gay you are',\n",
    "                thumbnail_url='https://encrypted-tbn0.gstatic.com/images?q=tbn:ANd9GcRYVjwWcucjURU7AiWxIaK5KkqLDSH9zgO9gg&s',\n",
    "                thumbnail_width=100,\n",
    "                thumbnail_height=100,\n",
    "                input_message_content=InputTextMessageContent(gay_value(username), parse_mode='HTML'),\n",
    "                reply_markup=share_keyboard\n",
    "            ),\n",
    "            InlineQueryResultArticle(\n",
    "                id='2',\n",
    "                title='Help',\n",
    "                description='you dont need to click on this',\n",
    "                thumbnail_url='https://encrypted-tbn0.gstatic.com/images?q=tbn:ANd9GcRYVjwWcucjURU7AiWxIaK5KkqLDSH9zgO9gg&s',\n",
    "                thumbnail_width=100,\n",
    "                thumbnail_height=100,\n",
    "                input_message_content=InputTextMessageContent('Its just a bot, click on the first button')\n",
    "            )\n",
    "        ]\n",
    "\n",
    "        bot.answer_inline_query(inline_query.id, results, cache_time=1)\n",
    "    except Exception as e:\n",
    "        print(f\"Error handling inline query: {e}\")\n",
    "\n",
    "def obtain_username(user):\n",
    "    if user.username:\n",
    "        return user.username\n",
    "    return user.first_name\n",
    "\n",
    "def gay_value(username):\n",
    "    print(f\"Checking gay value for: {username}\")\n",
    "    if username in value_range:\n",
    "        min_val, max_val = value_range[username]\n",
    "        value = random.randint(min_val, max_val)\n",
    "    else:\n",
    "        value = random.randint(0, 100)  # default range for others\n",
    "\n",
    "    return f\"🏳️‍🌈 I am {value}% gay!\"\n",
    "\n",
    "    \n",
    "# Start polling\n",
    "bot.polling()"
   ]
  }
 ],
 "metadata": {
  "kernelspec": {
   "display_name": "telegram_bot",
   "language": "python",
   "name": "python3"
  },
  "language_info": {
   "codemirror_mode": {
    "name": "ipython",
    "version": 3
   },
   "file_extension": ".py",
   "mimetype": "text/x-python",
   "name": "python",
   "nbconvert_exporter": "python",
   "pygments_lexer": "ipython3",
   "version": "3.13.5"
  }
 },
 "nbformat": 4,
 "nbformat_minor": 5
}
